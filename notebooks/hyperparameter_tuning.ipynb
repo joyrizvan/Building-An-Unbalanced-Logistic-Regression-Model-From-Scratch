{
 "cells": [
  {
   "cell_type": "markdown",
   "metadata": {},
   "source": [
    "# Hyper Parameter Tuning"
   ]
  },
  {
   "cell_type": "markdown",
   "metadata": {},
   "source": [
    "Importing the libraries"
   ]
  },
  {
   "cell_type": "code",
   "execution_count": null,
   "metadata": {},
   "outputs": [],
   "source": [
    "import sys\n",
    "import os\n",
    "project_root = os.path.abspath(\"..\")  # Adjust \"..\" if your notebooks are more deeply nested\n",
    "if project_root not in sys.path:\n",
    "    sys.path.insert(0, project_root)\n",
    "    sys.path.append(os.path.abspath('../src/'))\n",
    "import pandas as pd\n",
    "from src.CustomLogisticRegression import CustomLogisticRegression\n",
    "from src.train_model import split_train_test\n",
    "from src.evaluate import Metrics\n",
    "from src.run_model import run_model"
   ]
  },
  {
   "cell_type": "markdown",
   "metadata": {},
   "source": [
    "We are going to find to tune the following hyperparameters"
   ]
  },
  {
   "cell_type": "code",
   "execution_count": 4,
   "metadata": {},
   "outputs": [],
   "source": [
    "learning_rate = [0.001,0.01, 0.1] \n",
    "num_epochs = [100,500,1000] \n",
    "test_size = [0.20,0.25,0.3]\n"
   ]
  },
  {
   "cell_type": "markdown",
   "metadata": {},
   "source": [
    "We are going to iterate over each hyperparameter combination to find the values for accuracy, recall and precision"
   ]
  },
  {
   "cell_type": "code",
   "execution_count": 5,
   "metadata": {},
   "outputs": [
    {
     "name": "stdout",
     "output_type": "stream",
     "text": [
      "27\n"
     ]
    }
   ],
   "source": [
    "\n",
    "results = []\n",
    "count = 0\n",
    "total_combinations = len(learning_rate) * len(num_epochs) * len(test_size)\n",
    "\n",
    "# Loop through all combinations of hyperparameters\n",
    "for learn in learning_rate:\n",
    "    for epochs in num_epochs:\n",
    "        for test in test_size:\n",
    "            # Run your model with the current set of hyperparameters\n",
    "            y_pred, confusion_matrix, accuracy, precision, recall = run_model(learn, epochs, test)\n",
    "\n",
    "            # Append the results to the list\n",
    "            results.append({\n",
    "                'learning_rate': learn,\n",
    "                'epochs': epochs,\n",
    "                'test_size': test,\n",
    "                'accuracy': accuracy,\n",
    "                'precision': precision,\n",
    "                'recall': recall\n",
    "            })\n",
    "\n",
    "            # Update and print the progress\n",
    "            count += 1\n",
    "            \n",
    "print(count)\n",
    "\n",
    "\n",
    "# Convert results to DataFrame\n",
    "results_df = pd.DataFrame(results)"
   ]
  },
  {
   "cell_type": "code",
   "execution_count": 6,
   "metadata": {},
   "outputs": [
    {
     "data": {
      "text/html": [
       "<div>\n",
       "<style scoped>\n",
       "    .dataframe tbody tr th:only-of-type {\n",
       "        vertical-align: middle;\n",
       "    }\n",
       "\n",
       "    .dataframe tbody tr th {\n",
       "        vertical-align: top;\n",
       "    }\n",
       "\n",
       "    .dataframe thead th {\n",
       "        text-align: right;\n",
       "    }\n",
       "</style>\n",
       "<table border=\"1\" class=\"dataframe\">\n",
       "  <thead>\n",
       "    <tr style=\"text-align: right;\">\n",
       "      <th></th>\n",
       "      <th>learning_rate</th>\n",
       "      <th>epochs</th>\n",
       "      <th>test_size</th>\n",
       "      <th>accuracy</th>\n",
       "      <th>precision</th>\n",
       "      <th>recall</th>\n",
       "    </tr>\n",
       "  </thead>\n",
       "  <tbody>\n",
       "    <tr>\n",
       "      <th>0</th>\n",
       "      <td>0.001</td>\n",
       "      <td>100</td>\n",
       "      <td>0.20</td>\n",
       "      <td>0.729167</td>\n",
       "      <td>0.122485</td>\n",
       "      <td>0.593123</td>\n",
       "    </tr>\n",
       "    <tr>\n",
       "      <th>1</th>\n",
       "      <td>0.001</td>\n",
       "      <td>100</td>\n",
       "      <td>0.25</td>\n",
       "      <td>0.728800</td>\n",
       "      <td>0.124530</td>\n",
       "      <td>0.607798</td>\n",
       "    </tr>\n",
       "    <tr>\n",
       "      <th>2</th>\n",
       "      <td>0.001</td>\n",
       "      <td>100</td>\n",
       "      <td>0.30</td>\n",
       "      <td>0.735222</td>\n",
       "      <td>0.128942</td>\n",
       "      <td>0.616412</td>\n",
       "    </tr>\n",
       "    <tr>\n",
       "      <th>3</th>\n",
       "      <td>0.001</td>\n",
       "      <td>500</td>\n",
       "      <td>0.20</td>\n",
       "      <td>0.786167</td>\n",
       "      <td>0.144055</td>\n",
       "      <td>0.541547</td>\n",
       "    </tr>\n",
       "    <tr>\n",
       "      <th>4</th>\n",
       "      <td>0.001</td>\n",
       "      <td>500</td>\n",
       "      <td>0.25</td>\n",
       "      <td>0.785467</td>\n",
       "      <td>0.145619</td>\n",
       "      <td>0.552752</td>\n",
       "    </tr>\n",
       "  </tbody>\n",
       "</table>\n",
       "</div>"
      ],
      "text/plain": [
       "   learning_rate  epochs  test_size  accuracy  precision    recall\n",
       "0          0.001     100       0.20  0.729167   0.122485  0.593123\n",
       "1          0.001     100       0.25  0.728800   0.124530  0.607798\n",
       "2          0.001     100       0.30  0.735222   0.128942  0.616412\n",
       "3          0.001     500       0.20  0.786167   0.144055  0.541547\n",
       "4          0.001     500       0.25  0.785467   0.145619  0.552752"
      ]
     },
     "execution_count": 6,
     "metadata": {},
     "output_type": "execute_result"
    }
   ],
   "source": [
    "results_df.head()"
   ]
  },
  {
   "cell_type": "markdown",
   "metadata": {},
   "source": [
    "We are saving the file in a csv to analyse in results notebook"
   ]
  },
  {
   "cell_type": "code",
   "execution_count": 9,
   "metadata": {},
   "outputs": [],
   "source": [
    "results_df.to_csv('../data/transformed/hyperparameter_final_final.csv')"
   ]
  }
 ],
 "metadata": {
  "kernelspec": {
   "display_name": "base",
   "language": "python",
   "name": "python3"
  },
  "language_info": {
   "codemirror_mode": {
    "name": "ipython",
    "version": 3
   },
   "file_extension": ".py",
   "mimetype": "text/x-python",
   "name": "python",
   "nbconvert_exporter": "python",
   "pygments_lexer": "ipython3",
   "version": "3.12.4"
  }
 },
 "nbformat": 4,
 "nbformat_minor": 2
}
